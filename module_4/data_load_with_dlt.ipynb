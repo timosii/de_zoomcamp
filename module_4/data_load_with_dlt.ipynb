{
 "cells": [
  {
   "cell_type": "code",
   "execution_count": 1,
   "metadata": {},
   "outputs": [],
   "source": [
    "import pandas as pd\n",
    "import requests\n",
    "import dlt\n",
    "import io\n",
    "from loguru import logger\n",
    "from datetime import datetime\n",
    "from dateutil.relativedelta import relativedelta"
   ]
  },
  {
   "cell_type": "code",
   "execution_count": 2,
   "metadata": {},
   "outputs": [],
   "source": [
    "def get_months_between_dates(start_date: str, end_date: str):\n",
    "    start = datetime.strptime(start_date, '%Y-%m')\n",
    "    end = datetime.strptime(end_date, '%Y-%m')\n",
    "    \n",
    "    months = []\n",
    "    \n",
    "    while start <= end:\n",
    "        months.append(start.strftime('%Y-%m'))\n",
    "        start += relativedelta(months=1)\n",
    "    \n",
    "    return months\n",
    "\n",
    "months_green_yellow = get_months_between_dates('2019-01', '2020-12')\n",
    "months_fhv = get_months_between_dates('2019-01', '2019-12')"
   ]
  },
  {
   "cell_type": "code",
   "execution_count": 3,
   "metadata": {},
   "outputs": [],
   "source": [
    "green_taxi_url = 'https://github.com/DataTalksClub/nyc-tlc-data/releases/download/green/green_tripdata_{month}.csv.gz'\n",
    "yellow_taxi_url = 'https://github.com/DataTalksClub/nyc-tlc-data/releases/download/yellow/yellow_tripdata_{month}.csv.gz'\n",
    "fhv_taxi_url = 'https://github.com/DataTalksClub/nyc-tlc-data/releases/download/fhv/fhv_tripdata_{month}.csv.gz'"
   ]
  },
  {
   "cell_type": "code",
   "execution_count": 11,
   "metadata": {},
   "outputs": [],
   "source": [
    "def load_data_from_url(url: str,\n",
    "                       is_chunks: bool=False,\n",
    "                       chunksize: int = 1000000):\n",
    "    response = requests.get(url)\n",
    "    response.raise_for_status()\n",
    "    if is_chunks:\n",
    "        for chunk in pd.read_csv(filepath_or_buffer=io.BytesIO(response.content), compression='gzip', chunksize=chunksize):\n",
    "            yield chunk\n",
    "    else:\n",
    "        return pd.read_csv(filepath_or_buffer=io.BytesIO(response.content), compression='gzip')"
   ]
  },
  {
   "cell_type": "code",
   "execution_count": 12,
   "metadata": {},
   "outputs": [],
   "source": [
    "pipeline = dlt.pipeline(\n",
    "    pipeline_name='taxi_data_to_postgres',\n",
    "    destination='postgres',\n",
    "    dataset_name='public'\n",
    ")"
   ]
  },
  {
   "cell_type": "code",
   "execution_count": null,
   "metadata": {},
   "outputs": [],
   "source": [
    "# upload green_taxi data\n",
    "\n",
    "for month in months_green_yellow:\n",
    "    df_green = load_data_from_url(green_taxi_url.format(month=month))\n",
    "    \n",
    "    pipeline.run(\n",
    "        data=df_green,\n",
    "        table_name='green_taxi',\n",
    "        write_disposition='append'\n",
    "        )\n",
    "    logger.info(f'inserted green data for {month}')"
   ]
  },
  {
   "cell_type": "code",
   "execution_count": null,
   "metadata": {},
   "outputs": [
    {
     "name": "stderr",
     "output_type": "stream",
     "text": [
      "\u001b[32m2025-02-23 12:30:40.286\u001b[0m | \u001b[1mINFO    \u001b[0m | \u001b[36m__main__\u001b[0m:\u001b[36m<module>\u001b[0m:\u001b[36m13\u001b[0m - \u001b[1minserted yellow data for 2019-01, chunks_count: 8\u001b[0m\n",
      "\u001b[32m2025-02-23 12:33:32.781\u001b[0m | \u001b[1mINFO    \u001b[0m | \u001b[36m__main__\u001b[0m:\u001b[36m<module>\u001b[0m:\u001b[36m13\u001b[0m - \u001b[1minserted yellow data for 2019-02, chunks_count: 8\u001b[0m\n",
      "\u001b[32m2025-02-23 12:36:52.022\u001b[0m | \u001b[1mINFO    \u001b[0m | \u001b[36m__main__\u001b[0m:\u001b[36m<module>\u001b[0m:\u001b[36m13\u001b[0m - \u001b[1minserted yellow data for 2019-03, chunks_count: 8\u001b[0m\n",
      "\u001b[32m2025-02-23 12:39:57.616\u001b[0m | \u001b[1mINFO    \u001b[0m | \u001b[36m__main__\u001b[0m:\u001b[36m<module>\u001b[0m:\u001b[36m13\u001b[0m - \u001b[1minserted yellow data for 2019-04, chunks_count: 8\u001b[0m\n",
      "\u001b[32m2025-02-23 12:43:37.142\u001b[0m | \u001b[1mINFO    \u001b[0m | \u001b[36m__main__\u001b[0m:\u001b[36m<module>\u001b[0m:\u001b[36m13\u001b[0m - \u001b[1minserted yellow data for 2019-05, chunks_count: 8\u001b[0m\n",
      "\u001b[32m2025-02-23 12:46:06.788\u001b[0m | \u001b[1mINFO    \u001b[0m | \u001b[36m__main__\u001b[0m:\u001b[36m<module>\u001b[0m:\u001b[36m13\u001b[0m - \u001b[1minserted yellow data for 2019-06, chunks_count: 7\u001b[0m\n",
      "/tmp/ipykernel_4829/879967819.py:5: DtypeWarning: Columns (6) have mixed types. Specify dtype option on import or set low_memory=False.\n",
      "  for chunk in pd.read_csv(filepath_or_buffer=io.BytesIO(response.content), compression='gzip', chunksize=1000000):\n",
      "\u001b[32m2025-02-23 12:49:41.134\u001b[0m | \u001b[1mINFO    \u001b[0m | \u001b[36m__main__\u001b[0m:\u001b[36m<module>\u001b[0m:\u001b[36m13\u001b[0m - \u001b[1minserted yellow data for 2019-07, chunks_count: 7\u001b[0m\n",
      "/tmp/ipykernel_4829/879967819.py:5: DtypeWarning: Columns (6) have mixed types. Specify dtype option on import or set low_memory=False.\n",
      "  for chunk in pd.read_csv(filepath_or_buffer=io.BytesIO(response.content), compression='gzip', chunksize=1000000):\n",
      "\u001b[32m2025-02-23 12:51:34.561\u001b[0m | \u001b[1mINFO    \u001b[0m | \u001b[36m__main__\u001b[0m:\u001b[36m<module>\u001b[0m:\u001b[36m13\u001b[0m - \u001b[1minserted yellow data for 2019-08, chunks_count: 7\u001b[0m\n",
      "/tmp/ipykernel_4829/879967819.py:5: DtypeWarning: Columns (6) have mixed types. Specify dtype option on import or set low_memory=False.\n",
      "  for chunk in pd.read_csv(filepath_or_buffer=io.BytesIO(response.content), compression='gzip', chunksize=1000000):\n",
      "\u001b[32m2025-02-23 12:54:20.775\u001b[0m | \u001b[1mINFO    \u001b[0m | \u001b[36m__main__\u001b[0m:\u001b[36m<module>\u001b[0m:\u001b[36m13\u001b[0m - \u001b[1minserted yellow data for 2019-09, chunks_count: 7\u001b[0m\n",
      "/tmp/ipykernel_4829/879967819.py:5: DtypeWarning: Columns (6) have mixed types. Specify dtype option on import or set low_memory=False.\n",
      "  for chunk in pd.read_csv(filepath_or_buffer=io.BytesIO(response.content), compression='gzip', chunksize=1000000):\n",
      "\u001b[32m2025-02-23 12:58:13.708\u001b[0m | \u001b[1mINFO    \u001b[0m | \u001b[36m__main__\u001b[0m:\u001b[36m<module>\u001b[0m:\u001b[36m13\u001b[0m - \u001b[1minserted yellow data for 2019-10, chunks_count: 8\u001b[0m\n",
      "/tmp/ipykernel_4829/879967819.py:5: DtypeWarning: Columns (6) have mixed types. Specify dtype option on import or set low_memory=False.\n",
      "  for chunk in pd.read_csv(filepath_or_buffer=io.BytesIO(response.content), compression='gzip', chunksize=1000000):\n",
      "\u001b[32m2025-02-23 13:01:16.222\u001b[0m | \u001b[1mINFO    \u001b[0m | \u001b[36m__main__\u001b[0m:\u001b[36m<module>\u001b[0m:\u001b[36m13\u001b[0m - \u001b[1minserted yellow data for 2019-11, chunks_count: 7\u001b[0m\n",
      "/tmp/ipykernel_4829/879967819.py:5: DtypeWarning: Columns (6) have mixed types. Specify dtype option on import or set low_memory=False.\n",
      "  for chunk in pd.read_csv(filepath_or_buffer=io.BytesIO(response.content), compression='gzip', chunksize=1000000):\n",
      "\u001b[32m2025-02-23 13:03:34.727\u001b[0m | \u001b[1mINFO    \u001b[0m | \u001b[36m__main__\u001b[0m:\u001b[36m<module>\u001b[0m:\u001b[36m13\u001b[0m - \u001b[1minserted yellow data for 2019-12, chunks_count: 7\u001b[0m\n",
      "/tmp/ipykernel_4829/879967819.py:5: DtypeWarning: Columns (6) have mixed types. Specify dtype option on import or set low_memory=False.\n",
      "  for chunk in pd.read_csv(filepath_or_buffer=io.BytesIO(response.content), compression='gzip', chunksize=1000000):\n",
      "\u001b[32m2025-02-23 13:06:30.130\u001b[0m | \u001b[1mINFO    \u001b[0m | \u001b[36m__main__\u001b[0m:\u001b[36m<module>\u001b[0m:\u001b[36m13\u001b[0m - \u001b[1minserted yellow data for 2020-01, chunks_count: 7\u001b[0m\n",
      "/tmp/ipykernel_4829/879967819.py:5: DtypeWarning: Columns (6) have mixed types. Specify dtype option on import or set low_memory=False.\n",
      "  for chunk in pd.read_csv(filepath_or_buffer=io.BytesIO(response.content), compression='gzip', chunksize=1000000):\n",
      "\u001b[32m2025-02-23 13:10:01.630\u001b[0m | \u001b[1mINFO    \u001b[0m | \u001b[36m__main__\u001b[0m:\u001b[36m<module>\u001b[0m:\u001b[36m13\u001b[0m - \u001b[1minserted yellow data for 2020-02, chunks_count: 7\u001b[0m\n",
      "/tmp/ipykernel_4829/879967819.py:5: DtypeWarning: Columns (6) have mixed types. Specify dtype option on import or set low_memory=False.\n",
      "  for chunk in pd.read_csv(filepath_or_buffer=io.BytesIO(response.content), compression='gzip', chunksize=1000000):\n",
      "\u001b[32m2025-02-23 13:10:58.700\u001b[0m | \u001b[1mINFO    \u001b[0m | \u001b[36m__main__\u001b[0m:\u001b[36m<module>\u001b[0m:\u001b[36m13\u001b[0m - \u001b[1minserted yellow data for 2020-03, chunks_count: 4\u001b[0m\n",
      "/tmp/ipykernel_4829/879967819.py:5: DtypeWarning: Columns (6) have mixed types. Specify dtype option on import or set low_memory=False.\n",
      "  for chunk in pd.read_csv(filepath_or_buffer=io.BytesIO(response.content), compression='gzip', chunksize=1000000):\n",
      "\u001b[32m2025-02-23 13:11:10.982\u001b[0m | \u001b[1mINFO    \u001b[0m | \u001b[36m__main__\u001b[0m:\u001b[36m<module>\u001b[0m:\u001b[36m13\u001b[0m - \u001b[1minserted yellow data for 2020-04, chunks_count: 1\u001b[0m\n",
      "/tmp/ipykernel_4829/879967819.py:5: DtypeWarning: Columns (6) have mixed types. Specify dtype option on import or set low_memory=False.\n",
      "  for chunk in pd.read_csv(filepath_or_buffer=io.BytesIO(response.content), compression='gzip', chunksize=1000000):\n",
      "\u001b[32m2025-02-23 13:11:33.595\u001b[0m | \u001b[1mINFO    \u001b[0m | \u001b[36m__main__\u001b[0m:\u001b[36m<module>\u001b[0m:\u001b[36m13\u001b[0m - \u001b[1minserted yellow data for 2020-05, chunks_count: 1\u001b[0m\n",
      "/tmp/ipykernel_4829/879967819.py:5: DtypeWarning: Columns (6) have mixed types. Specify dtype option on import or set low_memory=False.\n",
      "  for chunk in pd.read_csv(filepath_or_buffer=io.BytesIO(response.content), compression='gzip', chunksize=1000000):\n",
      "\u001b[32m2025-02-23 13:12:04.541\u001b[0m | \u001b[1mINFO    \u001b[0m | \u001b[36m__main__\u001b[0m:\u001b[36m<module>\u001b[0m:\u001b[36m13\u001b[0m - \u001b[1minserted yellow data for 2020-06, chunks_count: 1\u001b[0m\n",
      "/tmp/ipykernel_4829/879967819.py:5: DtypeWarning: Columns (6) have mixed types. Specify dtype option on import or set low_memory=False.\n",
      "  for chunk in pd.read_csv(filepath_or_buffer=io.BytesIO(response.content), compression='gzip', chunksize=1000000):\n",
      "\u001b[32m2025-02-23 13:12:19.862\u001b[0m | \u001b[1mINFO    \u001b[0m | \u001b[36m__main__\u001b[0m:\u001b[36m<module>\u001b[0m:\u001b[36m13\u001b[0m - \u001b[1minserted yellow data for 2020-07, chunks_count: 1\u001b[0m\n",
      "/tmp/ipykernel_4829/879967819.py:5: DtypeWarning: Columns (6) have mixed types. Specify dtype option on import or set low_memory=False.\n",
      "  for chunk in pd.read_csv(filepath_or_buffer=io.BytesIO(response.content), compression='gzip', chunksize=1000000):\n",
      "\u001b[32m2025-02-23 13:12:39.083\u001b[0m | \u001b[1mINFO    \u001b[0m | \u001b[36m__main__\u001b[0m:\u001b[36m<module>\u001b[0m:\u001b[36m13\u001b[0m - \u001b[1minserted yellow data for 2020-08, chunks_count: 2\u001b[0m\n",
      "/tmp/ipykernel_4829/879967819.py:5: DtypeWarning: Columns (6) have mixed types. Specify dtype option on import or set low_memory=False.\n",
      "  for chunk in pd.read_csv(filepath_or_buffer=io.BytesIO(response.content), compression='gzip', chunksize=1000000):\n",
      "\u001b[32m2025-02-23 13:13:04.464\u001b[0m | \u001b[1mINFO    \u001b[0m | \u001b[36m__main__\u001b[0m:\u001b[36m<module>\u001b[0m:\u001b[36m13\u001b[0m - \u001b[1minserted yellow data for 2020-09, chunks_count: 2\u001b[0m\n",
      "/tmp/ipykernel_4829/879967819.py:5: DtypeWarning: Columns (6) have mixed types. Specify dtype option on import or set low_memory=False.\n",
      "  for chunk in pd.read_csv(filepath_or_buffer=io.BytesIO(response.content), compression='gzip', chunksize=1000000):\n",
      "\u001b[32m2025-02-23 13:13:35.126\u001b[0m | \u001b[1mINFO    \u001b[0m | \u001b[36m__main__\u001b[0m:\u001b[36m<module>\u001b[0m:\u001b[36m13\u001b[0m - \u001b[1minserted yellow data for 2020-10, chunks_count: 2\u001b[0m\n",
      "/tmp/ipykernel_4829/879967819.py:5: DtypeWarning: Columns (6) have mixed types. Specify dtype option on import or set low_memory=False.\n",
      "  for chunk in pd.read_csv(filepath_or_buffer=io.BytesIO(response.content), compression='gzip', chunksize=1000000):\n",
      "\u001b[32m2025-02-23 13:14:04.564\u001b[0m | \u001b[1mINFO    \u001b[0m | \u001b[36m__main__\u001b[0m:\u001b[36m<module>\u001b[0m:\u001b[36m13\u001b[0m - \u001b[1minserted yellow data for 2020-11, chunks_count: 2\u001b[0m\n",
      "/tmp/ipykernel_4829/879967819.py:5: DtypeWarning: Columns (6) have mixed types. Specify dtype option on import or set low_memory=False.\n",
      "  for chunk in pd.read_csv(filepath_or_buffer=io.BytesIO(response.content), compression='gzip', chunksize=1000000):\n",
      "\u001b[32m2025-02-23 13:14:36.014\u001b[0m | \u001b[1mINFO    \u001b[0m | \u001b[36m__main__\u001b[0m:\u001b[36m<module>\u001b[0m:\u001b[36m13\u001b[0m - \u001b[1minserted yellow data for 2020-12, chunks_count: 2\u001b[0m\n"
     ]
    }
   ],
   "source": [
    "# upload yellow_taxi data\n",
    "\n",
    "for month in months_green_yellow:\n",
    "    count_chunks = 0\n",
    "    for chunk in load_data_from_url(\n",
    "        url=yellow_taxi_url.format(month=month),\n",
    "        is_chunks=True\n",
    "        ):\n",
    "        try:\n",
    "            pipeline.run(\n",
    "                data=chunk,\n",
    "                table_name='yellow_taxi',\n",
    "                write_disposition='append',\n",
    "                )\n",
    "            count_chunks += 1  \n",
    "        except Exception as e:\n",
    "            print(f'Error loading chunk : {count_chunks} for {month}')\n",
    "    logger.info(f'inserted yellow data for {month}, chunks_count: {count_chunks}')"
   ]
  },
  {
   "cell_type": "code",
   "execution_count": null,
   "metadata": {},
   "outputs": [
    {
     "name": "stderr",
     "output_type": "stream",
     "text": [
      "\u001b[32m2025-02-23 01:11:00.231\u001b[0m | \u001b[1mINFO    \u001b[0m | \u001b[36m__main__\u001b[0m:\u001b[36m<module>\u001b[0m:\u001b[36m9\u001b[0m - \u001b[1minserted fhv data for 2019-01\u001b[0m\n",
      "\u001b[32m2025-02-23 01:11:29.282\u001b[0m | \u001b[1mINFO    \u001b[0m | \u001b[36m__main__\u001b[0m:\u001b[36m<module>\u001b[0m:\u001b[36m9\u001b[0m - \u001b[1minserted fhv data for 2019-02\u001b[0m\n",
      "\u001b[32m2025-02-23 01:11:49.786\u001b[0m | \u001b[1mINFO    \u001b[0m | \u001b[36m__main__\u001b[0m:\u001b[36m<module>\u001b[0m:\u001b[36m9\u001b[0m - \u001b[1minserted fhv data for 2019-03\u001b[0m\n",
      "\u001b[32m2025-02-23 01:12:09.709\u001b[0m | \u001b[1mINFO    \u001b[0m | \u001b[36m__main__\u001b[0m:\u001b[36m<module>\u001b[0m:\u001b[36m9\u001b[0m - \u001b[1minserted fhv data for 2019-04\u001b[0m\n",
      "\u001b[32m2025-02-23 01:12:34.463\u001b[0m | \u001b[1mINFO    \u001b[0m | \u001b[36m__main__\u001b[0m:\u001b[36m<module>\u001b[0m:\u001b[36m9\u001b[0m - \u001b[1minserted fhv data for 2019-05\u001b[0m\n",
      "\u001b[32m2025-02-23 01:13:15.690\u001b[0m | \u001b[1mINFO    \u001b[0m | \u001b[36m__main__\u001b[0m:\u001b[36m<module>\u001b[0m:\u001b[36m9\u001b[0m - \u001b[1minserted fhv data for 2019-06\u001b[0m\n",
      "\u001b[32m2025-02-23 01:14:05.124\u001b[0m | \u001b[1mINFO    \u001b[0m | \u001b[36m__main__\u001b[0m:\u001b[36m<module>\u001b[0m:\u001b[36m9\u001b[0m - \u001b[1minserted fhv data for 2019-07\u001b[0m\n",
      "\u001b[32m2025-02-23 01:14:53.553\u001b[0m | \u001b[1mINFO    \u001b[0m | \u001b[36m__main__\u001b[0m:\u001b[36m<module>\u001b[0m:\u001b[36m9\u001b[0m - \u001b[1minserted fhv data for 2019-08\u001b[0m\n",
      "\u001b[32m2025-02-23 01:15:25.655\u001b[0m | \u001b[1mINFO    \u001b[0m | \u001b[36m__main__\u001b[0m:\u001b[36m<module>\u001b[0m:\u001b[36m9\u001b[0m - \u001b[1minserted fhv data for 2019-09\u001b[0m\n",
      "\u001b[32m2025-02-23 01:15:50.796\u001b[0m | \u001b[1mINFO    \u001b[0m | \u001b[36m__main__\u001b[0m:\u001b[36m<module>\u001b[0m:\u001b[36m9\u001b[0m - \u001b[1minserted fhv data for 2019-10\u001b[0m\n",
      "\u001b[32m2025-02-23 01:16:10.126\u001b[0m | \u001b[1mINFO    \u001b[0m | \u001b[36m__main__\u001b[0m:\u001b[36m<module>\u001b[0m:\u001b[36m9\u001b[0m - \u001b[1minserted fhv data for 2019-11\u001b[0m\n",
      "\u001b[32m2025-02-23 01:16:30.437\u001b[0m | \u001b[1mINFO    \u001b[0m | \u001b[36m__main__\u001b[0m:\u001b[36m<module>\u001b[0m:\u001b[36m9\u001b[0m - \u001b[1minserted fhv data for 2019-12\u001b[0m\n"
     ]
    }
   ],
   "source": [
    "# upload fhv dataset\n",
    "\n",
    "for month in months_fhv:\n",
    "    df_fhv = load_data_from_url(fhv_taxi_url.format(month=month))\n",
    "\n",
    "    pipeline.run(\n",
    "        data=df_fhv,\n",
    "        table_name='fhv_taxi',\n",
    "        write_disposition='append'\n",
    "        )\n",
    "    logger.info(f'inserted fhv data for {month}')"
   ]
  },
  {
   "cell_type": "code",
   "execution_count": null,
   "metadata": {},
   "outputs": [],
   "source": [
    "# upload taxi_zone_lookup\n",
    "# better use dbt seed\n",
    "\n",
    "df = pd.read_csv(\n",
    "    filepath_or_buffer='../zoomcamp/seeds/taxi_zone_lookup.csv'\n",
    ")\n",
    "\n",
    "pipeline.run(\n",
    "    data=df,\n",
    "    table_name='taxi_zone_lookup',\n",
    "    write_disposition='append'\n",
    "    )"
   ]
  }
 ],
 "metadata": {
  "kernelspec": {
   "display_name": ".venv",
   "language": "python",
   "name": "python3"
  },
  "language_info": {
   "codemirror_mode": {
    "name": "ipython",
    "version": 3
   },
   "file_extension": ".py",
   "mimetype": "text/x-python",
   "name": "python",
   "nbconvert_exporter": "python",
   "pygments_lexer": "ipython3",
   "version": "3.10.12"
  }
 },
 "nbformat": 4,
 "nbformat_minor": 2
}
